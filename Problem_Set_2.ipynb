{
 "cells": [
  {
   "cell_type": "markdown",
   "id": "d7a2c992",
   "metadata": {},
   "source": [
    "# Problem Set 2"
   ]
  },
  {
   "cell_type": "markdown",
   "id": "1561aab0",
   "metadata": {},
   "source": [
    "# Question 1\n",
    "Consider the following Python module:\n",
    "\n",
    "What value is displayed when the last expression (a) is evaluated? \n",
    "Explain your answer by indicating what happens in every executed statement.\n"
   ]
  },
  {
   "cell_type": "code",
   "execution_count": 11,
   "id": "e4c67f41",
   "metadata": {},
   "outputs": [
    {
     "data": {
      "text/plain": [
       "6"
      ]
     },
     "execution_count": 11,
     "metadata": {},
     "output_type": "execute_result"
    }
   ],
   "source": [
    "a = 0 \n",
    "\n",
    "def b():\n",
    "    global a\n",
    "    a = c(a)\n",
    "    print\n",
    "\n",
    "\n",
    "def c(a):\n",
    "    return a + 2\n",
    "b()\n",
    "b()\n",
    "b()\n",
    "a\n"
   ]
  },
  {
   "cell_type": "markdown",
   "id": "5ddfafcb",
   "metadata": {},
   "source": [
    "-The value returned by the previous expression is 6\n",
    "\n",
    "-The above result is 6 because in each task\n",
    "\n",
    "2 are added to b(), so if a=0, in the first one it is: 0+2 =2,\n",
    "in the second b() the previous is 2 + 2 = 4.\n",
    "in the third b() the previous value is added 4 + 2= 6\n",
    "and at the end a = 6."
   ]
  },
  {
   "cell_type": "markdown",
   "id": "0003ae3b",
   "metadata": {},
   "source": [
    "# Question 2\n",
    "\n",
    "Function fileLength(), given to you, takes the name of a file as input and returns \n",
    "the length of the file:\n",
    "\n",
    "as shown above, if the file cannot be found by the interpreter or if it cannot be read \n",
    "as a text file, an exception will be raised. Modify function fileLength() so that a \n",
    "friendly message is printed instead:"
   ]
  },
  {
   "cell_type": "code",
   "execution_count": 3,
   "id": "475b7907",
   "metadata": {},
   "outputs": [
    {
     "name": "stdout",
     "output_type": "stream",
     "text": [
      "File Filelength.py not found.\n",
      "File ilelength.py not found.\n"
     ]
    }
   ],
   "source": [
    "import os\n",
    "def fileLength(file_name):\n",
    "\n",
    "    try:\n",
    "        length = os.path.getsize(file_name)\n",
    "        return length\n",
    "    \n",
    "    except FileNotFoundError:\n",
    "        return \"File \"+file_name+\" not found.\"\n",
    "\n",
    "print(fileLength(\"Filelength.py\"))\n",
    "print(fileLength(\"ilelength.py\"))"
   ]
  },
  {
   "cell_type": "markdown",
   "id": "7c0b5a13",
   "metadata": {},
   "source": [
    "# Question 3\n",
    "Write a class named Marsupial that can be used as shown below:"
   ]
  },
  {
   "cell_type": "code",
   "execution_count": 13,
   "id": "ca6aba31",
   "metadata": {},
   "outputs": [
    {
     "name": "stdout",
     "output_type": "stream",
     "text": [
      "['doll', 'firetruck', 'kitten']\n"
     ]
    }
   ],
   "source": [
    "class Marsupial:\n",
    "    def __init__(self, contents=[]):\n",
    "        self.lst = []\n",
    "    def put_in_pouch(self, item):\n",
    "        self.lst.append(item)\n",
    "    def pouch_contents(self):\n",
    "        print(self.lst)\n",
    "m = Marsupial()\n",
    "m.put_in_pouch('doll')\n",
    "m.put_in_pouch('firetruck')\n",
    "m.put_in_pouch('kitten')\n",
    "m.pouch_contents()"
   ]
  },
  {
   "cell_type": "markdown",
   "id": "d2344eac",
   "metadata": {},
   "source": [
    "Now write a class named Kangaroo as a subclass of Marsupial that inherits all the \n",
    "attributes of Marsupial and also:\n",
    "\n",
    "a. extends the Marsupial __init__ constructor to take, as input, the\n",
    "coordinates x and y of the Kangaroo object.\n",
    "\n",
    "b. supports method jump that takes number values dx and dy as input and \n",
    "movesthe kangaroo by dx units along the x-axis and by dy units along the y\u0002axis, and\n",
    "\n",
    "c. overloads the __str__ operator so it behaves as shown below.\n"
   ]
  },
  {
   "cell_type": "code",
   "execution_count": 14,
   "id": "00ffbd40",
   "metadata": {},
   "outputs": [
    {
     "name": "stdout",
     "output_type": "stream",
     "text": [
      "I am a Kangaroo located at coordinates (0,0)\n",
      " ------------------------\n",
      "['doll', 'firetruck', 'kitten']\n",
      "------------------------\n",
      "I am a Kangaroo located at coordinates (3,0)\n",
      "------------------------\n"
     ]
    }
   ],
   "source": [
    "class Marsupial:\n",
    "\n",
    "    def __init__(self, contents=[]):\n",
    "        self.pouch=[] \n",
    "    def put_in_pouch(self, item):\n",
    "        self.pouch.append(item)\n",
    "    def pouch_contents(self):\n",
    "        return self.pouch\n",
    "\n",
    "class Kangaroo(Marsupial):\n",
    "\n",
    "    def __init__(self, x,y):\n",
    "        Marsupial.__init__(self)\n",
    "        self.x=x\n",
    "        self.y=y\n",
    "\n",
    "    def jump(self, dx, dy):\n",
    "        self.x+=dx\n",
    "        self.x+=dy    \n",
    "\n",
    "    def __str__(self):\n",
    "        return \"I am a Kangaroo located at coordinates (\"+str(self.x)+\",\"+str(self.y)+\")\"\n",
    "\n",
    "    \n",
    "\n",
    "k = Kangaroo(0,0)\n",
    "print(k)\n",
    "print (\" ------------------------\")\n",
    "\n",
    "k.put_in_pouch('doll')\n",
    "k.put_in_pouch('firetruck')\n",
    "k.put_in_pouch('kitten')\n",
    "print(k.pouch_contents())\n",
    "print (\"------------------------\")\n",
    "\n",
    "k.jump(1,0)\n",
    "k.jump(1,0)\n",
    "k.jump(1,0)\n",
    "print(k)\n",
    "print (\"------------------------\")"
   ]
  },
  {
   "cell_type": "markdown",
   "id": "313b799b",
   "metadata": {},
   "source": [
    "# Question 4\n",
    "\n",
    "Write function collatz() that takes a positive integer x as input and prints the \n",
    "Collatz sequence starting at x. A Collatz sequence is obtained by repeatedly applying \n",
    "this rule to the previous number x in the sequence:\n",
    "\n",
    "Your function should stop when the sequence gets to number 1. Your \n",
    "implementation must be recursive, without any loops\n"
   ]
  },
  {
   "cell_type": "code",
   "execution_count": 15,
   "id": "c321df8e",
   "metadata": {},
   "outputs": [
    {
     "name": "stdout",
     "output_type": "stream",
     "text": [
      "Enter a number\n",
      "1\n",
      "1\n"
     ]
    }
   ],
   "source": [
    "def collatz(n):\n",
    "\n",
    "    if n==1:\n",
    "        print(n)\n",
    "        return\n",
    "    \n",
    "    elif n%2==0:\n",
    "        print(n)\n",
    "        return collatz(n//2)  #call method recursively\n",
    "    \n",
    "    else:\n",
    "        return collatz(n*3+1)  #call method recursively\n",
    "    \n",
    "print('Enter a number') \n",
    "n=input()\n",
    "n=collatz(int(n))"
   ]
  },
  {
   "cell_type": "code",
   "execution_count": 16,
   "id": "03100c54",
   "metadata": {},
   "outputs": [
    {
     "name": "stdout",
     "output_type": "stream",
     "text": [
      "Enter a number\n",
      "10\n",
      "10\n",
      "16\n",
      "8\n",
      "4\n",
      "2\n",
      "1\n"
     ]
    }
   ],
   "source": [
    "def collatz(n):\n",
    "\n",
    "    if n ==1:\n",
    "        print(n)\n",
    "        return n\n",
    "    \n",
    "    elif n % 2==0:\n",
    "        print(n)\n",
    "        #n= n//2\n",
    "        return collatz(n//2)\n",
    "    \n",
    "    else:\n",
    "        return collatz(n*3+1)\n",
    "    \n",
    "print('Enter a number') \n",
    "n=input()\n",
    "n=collatz(int(n))"
   ]
  },
  {
   "cell_type": "markdown",
   "id": "2709434f",
   "metadata": {},
   "source": [
    "# Question 5\n",
    "Write a recursive method binary() that takes a non-negative \n",
    "integer n and prints the binary representation of integer n.\n",
    "\n"
   ]
  },
  {
   "cell_type": "code",
   "execution_count": 17,
   "id": "f7e27b90",
   "metadata": {},
   "outputs": [
    {
     "name": "stdout",
     "output_type": "stream",
     "text": [
      "0\n",
      "1\n",
      "11\n",
      "1001\n"
     ]
    }
   ],
   "source": [
    "def binary(n):\n",
    "   \n",
    "    if n == 0:\n",
    "        return '0'\n",
    "    else:\n",
    "        num = ''\n",
    "    while n > 0:\n",
    "        num = str((n % 2)) + num\n",
    "        n //= 2\n",
    "    return num\n",
    "\n",
    "print(binary(0))\n",
    "print(binary(1))\n",
    "print(binary(3))\n",
    "print(binary(9))"
   ]
  },
  {
   "cell_type": "markdown",
   "id": "64b435bf",
   "metadata": {},
   "source": [
    "# Question 6\n",
    "Test your \n",
    "implementation using w3c.html."
   ]
  },
  {
   "cell_type": "code",
   "execution_count": null,
   "id": "abaf7273",
   "metadata": {},
   "outputs": [],
   "source": [
    "from html.parser import HTMLParser\n",
    "\n",
    "class HeadingParser(HTMLParser):\n",
    "    headerFlag = False\n",
    "    indent = 0\n",
    "    \n",
    "    def handle_starttag(self, tag, attrs):      \n",
    "        if tag == \"h1\":\n",
    "            self.headerFlag = True\n",
    "            self.indent= 0\n",
    "            \n",
    "        elif tag == \"h2\":\n",
    "            self.headerFlag = True\n",
    "            self.indent= 1\n",
    "            \n",
    "        elif tag == \"h3\":\n",
    "            self.headerFlag = True\n",
    "            self.indent= 2\n",
    "        else:\n",
    "            self.headerFlag = False\n",
    "            self.indent= 0\n",
    "\n",
    "\n",
    "    def handle_data(self, data):                \n",
    "        if self.headerFlag: \n",
    "            space = \" \"*self.indent\n",
    "            print(\"%s%s\" % (space,data))\n",
    "   \n",
    "    def handle_endtag(self, tag):\n",
    "        if tag in [\"h1\",\"h2\",\"h3\"]:\n",
    "            self.headerFlag = False\n",
    "\n",
    "infile = open('w3c.html')\n",
    "content = infile.read()\n",
    "infile.close()\n",
    "hp = HeadingParser()\n",
    "hp.feed(content) "
   ]
  },
  {
   "cell_type": "markdown",
   "id": "4c595765",
   "metadata": {},
   "source": [
    "# Question 7\n",
    "Implement recursive function webdir() that takes as input: a URL (as a string) and \n",
    "non-negative integers depth and indent. Your function should visit every web \n",
    "page reachable from the starting URL web page in depth clicks or less, and print \n",
    "each web page's URL. As shown below, indentation, specified by indent, should \n",
    "be used to indicate the depth of a URL."
   ]
  },
  {
   "cell_type": "code",
   "execution_count": 19,
   "id": "cf6f17fb",
   "metadata": {},
   "outputs": [
    {
     "name": "stdout",
     "output_type": "stream",
     "text": [
      "http://reed.cs.depaul.edu/Iperkovic/csc242/test1.html\n",
      "http://reed.cs.depaul.edu/lperkovic/csc242/test2.html\n",
      "http://reed.cs.depaul.edu/lperkovic/csc242/test3.html\n",
      "http://reed.cs.depaul.edu/lperkovic/csc242/test4.html\n"
     ]
    }
   ],
   "source": [
    "import requests\n",
    "from bs4 import BeautifulSoup\n",
    "\n",
    "\n",
    "def webdir(url, depth, indent):\n",
    "    resp = requests.get(url)\n",
    "    print(url)\n",
    "    if(depth == indent):\n",
    "        return\n",
    "    soup = BeautifulSoup(resp.text, 'html.parser')\n",
    "    for link in soup.findAll('a'):\n",
    "        new_link = link.get('href')\n",
    "        if(new_link.startswith('http')):\n",
    "            webdir(new_link, depth, indent+1)\n",
    "\n",
    "\n",
    "webdir('http://reed.cs.depaul.edu/Iperkovic/csc242/test1.html',2, 0 )\n",
    "webdir('http://reed.cs.depaul.edu/lperkovic/csc242/test2.html', 2, 0)\n",
    "webdir('http://reed.cs.depaul.edu/lperkovic/csc242/test3.html', 2, 0)\n",
    "webdir('http://reed.cs.depaul.edu/lperkovic/csc242/test4.html', 2, 0)"
   ]
  },
  {
   "cell_type": "markdown",
   "id": "3acd7c80",
   "metadata": {},
   "source": [
    "# Question 8\n",
    "Write SQL queries on the below database table that return:\n"
   ]
  },
  {
   "cell_type": "markdown",
   "id": "316a4b99",
   "metadata": {},
   "source": [
    "Create Table"
   ]
  },
  {
   "cell_type": "code",
   "execution_count": 41,
   "id": "ef5e0172",
   "metadata": {},
   "outputs": [
    {
     "name": "stdout",
     "output_type": "stream",
     "text": [
      "Requirement already satisfied: ipython-sql in c:\\users\\monic\\anaconda3\\lib\\site-packages (0.4.1)\n",
      "Requirement already satisfied: sqlparse in c:\\users\\monic\\anaconda3\\lib\\site-packages (from ipython-sql) (0.4.3)\n",
      "Requirement already satisfied: prettytable<1 in c:\\users\\monic\\anaconda3\\lib\\site-packages (from ipython-sql) (0.7.2)\n",
      "Requirement already satisfied: ipython>=1.0 in c:\\users\\monic\\anaconda3\\lib\\site-packages (from ipython-sql) (8.2.0)\n",
      "Requirement already satisfied: six in c:\\users\\monic\\anaconda3\\lib\\site-packages (from ipython-sql) (1.16.0)\n",
      "Requirement already satisfied: sqlalchemy>=0.6.7 in c:\\users\\monic\\anaconda3\\lib\\site-packages (from ipython-sql) (1.4.32)\n",
      "Requirement already satisfied: ipython-genutils>=0.1.0 in c:\\users\\monic\\anaconda3\\lib\\site-packages (from ipython-sql) (0.2.0)\n",
      "Requirement already satisfied: pickleshare in c:\\users\\monic\\anaconda3\\lib\\site-packages (from ipython>=1.0->ipython-sql) (0.7.5)\n",
      "Requirement already satisfied: backcall in c:\\users\\monic\\anaconda3\\lib\\site-packages (from ipython>=1.0->ipython-sql) (0.2.0)\n",
      "Requirement already satisfied: setuptools>=18.5 in c:\\users\\monic\\anaconda3\\lib\\site-packages (from ipython>=1.0->ipython-sql) (61.2.0)\n",
      "Requirement already satisfied: matplotlib-inline in c:\\users\\monic\\anaconda3\\lib\\site-packages (from ipython>=1.0->ipython-sql) (0.1.2)\n",
      "Requirement already satisfied: pygments>=2.4.0 in c:\\users\\monic\\anaconda3\\lib\\site-packages (from ipython>=1.0->ipython-sql) (2.11.2)\n",
      "Requirement already satisfied: stack-data in c:\\users\\monic\\anaconda3\\lib\\site-packages (from ipython>=1.0->ipython-sql) (0.2.0)\n",
      "Requirement already satisfied: colorama in c:\\users\\monic\\anaconda3\\lib\\site-packages (from ipython>=1.0->ipython-sql) (0.4.4)\n",
      "Requirement already satisfied: jedi>=0.16 in c:\\users\\monic\\anaconda3\\lib\\site-packages (from ipython>=1.0->ipython-sql) (0.18.1)\n",
      "Requirement already satisfied: decorator in c:\\users\\monic\\anaconda3\\lib\\site-packages (from ipython>=1.0->ipython-sql) (5.1.1)\n",
      "Requirement already satisfied: traitlets>=5 in c:\\users\\monic\\anaconda3\\lib\\site-packages (from ipython>=1.0->ipython-sql) (5.1.1)\n",
      "Requirement already satisfied: prompt-toolkit!=3.0.0,!=3.0.1,<3.1.0,>=2.0.0 in c:\\users\\monic\\anaconda3\\lib\\site-packages (from ipython>=1.0->ipython-sql) (3.0.20)\n",
      "Requirement already satisfied: parso<0.9.0,>=0.8.0 in c:\\users\\monic\\anaconda3\\lib\\site-packages (from jedi>=0.16->ipython>=1.0->ipython-sql) (0.8.3)\n",
      "Requirement already satisfied: wcwidth in c:\\users\\monic\\anaconda3\\lib\\site-packages (from prompt-toolkit!=3.0.0,!=3.0.1,<3.1.0,>=2.0.0->ipython>=1.0->ipython-sql) (0.2.5)\n",
      "Requirement already satisfied: greenlet!=0.4.17 in c:\\users\\monic\\anaconda3\\lib\\site-packages (from sqlalchemy>=0.6.7->ipython-sql) (1.1.1)\n",
      "Requirement already satisfied: asttokens in c:\\users\\monic\\anaconda3\\lib\\site-packages (from stack-data->ipython>=1.0->ipython-sql) (2.0.5)\n",
      "Requirement already satisfied: executing in c:\\users\\monic\\anaconda3\\lib\\site-packages (from stack-data->ipython>=1.0->ipython-sql) (0.8.3)\n",
      "Requirement already satisfied: pure-eval in c:\\users\\monic\\anaconda3\\lib\\site-packages (from stack-data->ipython>=1.0->ipython-sql) (0.2.2)\n"
     ]
    }
   ],
   "source": [
    "!pip install ipython-sql"
   ]
  },
  {
   "cell_type": "code",
   "execution_count": 42,
   "id": "91109e8d",
   "metadata": {},
   "outputs": [
    {
     "name": "stdout",
     "output_type": "stream",
     "text": [
      "The sql extension is already loaded. To reload it, use:\n",
      "  %reload_ext sql\n"
     ]
    }
   ],
   "source": [
    "%load_ext sql"
   ]
  },
  {
   "cell_type": "code",
   "execution_count": 43,
   "id": "33572c7c",
   "metadata": {},
   "outputs": [],
   "source": [
    "%sql sqlite://"
   ]
  },
  {
   "cell_type": "code",
   "execution_count": 44,
   "id": "2cf50521",
   "metadata": {},
   "outputs": [
    {
     "name": "stdout",
     "output_type": "stream",
     "text": [
      " * sqlite://\n",
      "Done.\n"
     ]
    },
    {
     "data": {
      "text/plain": [
       "[]"
      ]
     },
     "execution_count": 44,
     "metadata": {},
     "output_type": "execute_result"
    }
   ],
   "source": [
    "%%sql\n",
    "\n",
    "CREATE TABLE city_information\n",
    "(\n",
    "City varchar(15),\n",
    "Country varchar(15),\n",
    "Season varchar(15),\n",
    "Temperature float,\n",
    "Rainfall float\n",
    ");"
   ]
  },
  {
   "cell_type": "markdown",
   "id": "938be6db",
   "metadata": {},
   "source": [
    "Insert records"
   ]
  },
  {
   "cell_type": "code",
   "execution_count": 45,
   "id": "46097787",
   "metadata": {},
   "outputs": [
    {
     "name": "stdout",
     "output_type": "stream",
     "text": [
      " * sqlite://\n",
      "12 rows affected.\n"
     ]
    },
    {
     "data": {
      "text/plain": [
       "[]"
      ]
     },
     "execution_count": 45,
     "metadata": {},
     "output_type": "execute_result"
    }
   ],
   "source": [
    "%%sql\n",
    "INSERT INTO city_information VALUES('Mumbai', 'India', 'Winter', 24.8,5.9),\n",
    "('Mumbai', 'India', 'Spring', 28.4,16.2),\n",
    "('Mumbai', 'India', 'Summer', 27.9,1549.4),\n",
    "('Mumbai', 'India', 'Fall', 27.6,346.0),\n",
    "('London', 'United kingdom', 'Winter', 4.2,207.7),\n",
    "('London', 'United kingdom', 'Spring', 8.3,169.6),\n",
    "('London', 'United kingdom','Summer', 15.7,157.0),\n",
    "('London', 'United kingdom','Fall', 10.4,218.5),\n",
    "('Cairo', 'Egypt','Winter', 13.6,16.5),\n",
    "('Cairo', 'Egypt', 'Spring', 20.7,6.5),\n",
    "('Cairo', 'Egypt', 'Summer', 27.7,0.1),\n",
    "('Cairo', 'Egypt', 'Fall', 22.2,4.5);\n"
   ]
  },
  {
   "cell_type": "markdown",
   "id": "0c5e3bc4",
   "metadata": {},
   "source": [
    "Show table"
   ]
  },
  {
   "cell_type": "code",
   "execution_count": 46,
   "id": "71c5a045",
   "metadata": {},
   "outputs": [
    {
     "name": "stdout",
     "output_type": "stream",
     "text": [
      " * sqlite://\n",
      "Done.\n"
     ]
    },
    {
     "data": {
      "text/html": [
       "<table>\n",
       "    <tr>\n",
       "        <th>City</th>\n",
       "        <th>Country</th>\n",
       "        <th>Season</th>\n",
       "        <th>Temperature</th>\n",
       "        <th>Rainfall</th>\n",
       "    </tr>\n",
       "    <tr>\n",
       "        <td>Mumbai</td>\n",
       "        <td>India</td>\n",
       "        <td>Winter</td>\n",
       "        <td>24.8</td>\n",
       "        <td>5.9</td>\n",
       "    </tr>\n",
       "    <tr>\n",
       "        <td>Mumbai</td>\n",
       "        <td>India</td>\n",
       "        <td>Spring</td>\n",
       "        <td>28.4</td>\n",
       "        <td>16.2</td>\n",
       "    </tr>\n",
       "    <tr>\n",
       "        <td>Mumbai</td>\n",
       "        <td>India</td>\n",
       "        <td>Summer</td>\n",
       "        <td>27.9</td>\n",
       "        <td>1549.4</td>\n",
       "    </tr>\n",
       "    <tr>\n",
       "        <td>Mumbai</td>\n",
       "        <td>India</td>\n",
       "        <td>Fall</td>\n",
       "        <td>27.6</td>\n",
       "        <td>346.0</td>\n",
       "    </tr>\n",
       "    <tr>\n",
       "        <td>London</td>\n",
       "        <td>United kingdom</td>\n",
       "        <td>Winter</td>\n",
       "        <td>4.2</td>\n",
       "        <td>207.7</td>\n",
       "    </tr>\n",
       "    <tr>\n",
       "        <td>London</td>\n",
       "        <td>United kingdom</td>\n",
       "        <td>Spring</td>\n",
       "        <td>8.3</td>\n",
       "        <td>169.6</td>\n",
       "    </tr>\n",
       "    <tr>\n",
       "        <td>London</td>\n",
       "        <td>United kingdom</td>\n",
       "        <td>Summer</td>\n",
       "        <td>15.7</td>\n",
       "        <td>157.0</td>\n",
       "    </tr>\n",
       "    <tr>\n",
       "        <td>London</td>\n",
       "        <td>United kingdom</td>\n",
       "        <td>Fall</td>\n",
       "        <td>10.4</td>\n",
       "        <td>218.5</td>\n",
       "    </tr>\n",
       "    <tr>\n",
       "        <td>Cairo</td>\n",
       "        <td>Egypt</td>\n",
       "        <td>Winter</td>\n",
       "        <td>13.6</td>\n",
       "        <td>16.5</td>\n",
       "    </tr>\n",
       "    <tr>\n",
       "        <td>Cairo</td>\n",
       "        <td>Egypt</td>\n",
       "        <td>Spring</td>\n",
       "        <td>20.7</td>\n",
       "        <td>6.5</td>\n",
       "    </tr>\n",
       "    <tr>\n",
       "        <td>Cairo</td>\n",
       "        <td>Egypt</td>\n",
       "        <td>Summer</td>\n",
       "        <td>27.7</td>\n",
       "        <td>0.1</td>\n",
       "    </tr>\n",
       "    <tr>\n",
       "        <td>Cairo</td>\n",
       "        <td>Egypt</td>\n",
       "        <td>Fall</td>\n",
       "        <td>22.2</td>\n",
       "        <td>4.5</td>\n",
       "    </tr>\n",
       "</table>"
      ],
      "text/plain": [
       "[('Mumbai', 'India', 'Winter', 24.8, 5.9),\n",
       " ('Mumbai', 'India', 'Spring', 28.4, 16.2),\n",
       " ('Mumbai', 'India', 'Summer', 27.9, 1549.4),\n",
       " ('Mumbai', 'India', 'Fall', 27.6, 346.0),\n",
       " ('London', 'United kingdom', 'Winter', 4.2, 207.7),\n",
       " ('London', 'United kingdom', 'Spring', 8.3, 169.6),\n",
       " ('London', 'United kingdom', 'Summer', 15.7, 157.0),\n",
       " ('London', 'United kingdom', 'Fall', 10.4, 218.5),\n",
       " ('Cairo', 'Egypt', 'Winter', 13.6, 16.5),\n",
       " ('Cairo', 'Egypt', 'Spring', 20.7, 6.5),\n",
       " ('Cairo', 'Egypt', 'Summer', 27.7, 0.1),\n",
       " ('Cairo', 'Egypt', 'Fall', 22.2, 4.5)]"
      ]
     },
     "execution_count": 46,
     "metadata": {},
     "output_type": "execute_result"
    }
   ],
   "source": [
    "%%sql\n",
    "select * from city_information;\n"
   ]
  },
  {
   "cell_type": "markdown",
   "id": "28b85b54",
   "metadata": {},
   "source": [
    "a) All the temperature data"
   ]
  },
  {
   "cell_type": "code",
   "execution_count": 47,
   "id": "172379a8",
   "metadata": {},
   "outputs": [
    {
     "name": "stdout",
     "output_type": "stream",
     "text": [
      " * sqlite://\n",
      "Done.\n"
     ]
    },
    {
     "data": {
      "text/html": [
       "<table>\n",
       "    <tr>\n",
       "        <th>Temperature</th>\n",
       "    </tr>\n",
       "    <tr>\n",
       "        <td>24.8</td>\n",
       "    </tr>\n",
       "    <tr>\n",
       "        <td>28.4</td>\n",
       "    </tr>\n",
       "    <tr>\n",
       "        <td>27.9</td>\n",
       "    </tr>\n",
       "    <tr>\n",
       "        <td>27.6</td>\n",
       "    </tr>\n",
       "    <tr>\n",
       "        <td>4.2</td>\n",
       "    </tr>\n",
       "    <tr>\n",
       "        <td>8.3</td>\n",
       "    </tr>\n",
       "    <tr>\n",
       "        <td>15.7</td>\n",
       "    </tr>\n",
       "    <tr>\n",
       "        <td>10.4</td>\n",
       "    </tr>\n",
       "    <tr>\n",
       "        <td>13.6</td>\n",
       "    </tr>\n",
       "    <tr>\n",
       "        <td>20.7</td>\n",
       "    </tr>\n",
       "    <tr>\n",
       "        <td>27.7</td>\n",
       "    </tr>\n",
       "    <tr>\n",
       "        <td>22.2</td>\n",
       "    </tr>\n",
       "</table>"
      ],
      "text/plain": [
       "[(24.8,),\n",
       " (28.4,),\n",
       " (27.9,),\n",
       " (27.6,),\n",
       " (4.2,),\n",
       " (8.3,),\n",
       " (15.7,),\n",
       " (10.4,),\n",
       " (13.6,),\n",
       " (20.7,),\n",
       " (27.7,),\n",
       " (22.2,)]"
      ]
     },
     "execution_count": 47,
     "metadata": {},
     "output_type": "execute_result"
    }
   ],
   "source": [
    "%%sql\n",
    "select temperature from city_information;"
   ]
  },
  {
   "cell_type": "markdown",
   "id": "3646b1cb",
   "metadata": {},
   "source": [
    "b) All the cities, but without repetition."
   ]
  },
  {
   "cell_type": "code",
   "execution_count": 48,
   "id": "ef55252b",
   "metadata": {},
   "outputs": [
    {
     "name": "stdout",
     "output_type": "stream",
     "text": [
      " * sqlite://\n",
      "Done.\n"
     ]
    },
    {
     "data": {
      "text/html": [
       "<table>\n",
       "    <tr>\n",
       "        <th>City</th>\n",
       "    </tr>\n",
       "    <tr>\n",
       "        <td>Mumbai</td>\n",
       "    </tr>\n",
       "    <tr>\n",
       "        <td>London</td>\n",
       "    </tr>\n",
       "    <tr>\n",
       "        <td>Cairo</td>\n",
       "    </tr>\n",
       "</table>"
      ],
      "text/plain": [
       "[('Mumbai',), ('London',), ('Cairo',)]"
      ]
     },
     "execution_count": 48,
     "metadata": {},
     "output_type": "execute_result"
    }
   ],
   "source": [
    "%%sql\n",
    "select distinct city from city_information;"
   ]
  },
  {
   "cell_type": "markdown",
   "id": "7df1042f",
   "metadata": {},
   "source": [
    "c) All the records for India."
   ]
  },
  {
   "cell_type": "code",
   "execution_count": 50,
   "id": "ecb38d65",
   "metadata": {},
   "outputs": [
    {
     "name": "stdout",
     "output_type": "stream",
     "text": [
      " * sqlite://\n",
      "Done.\n"
     ]
    },
    {
     "data": {
      "text/html": [
       "<table>\n",
       "    <tr>\n",
       "        <th>City</th>\n",
       "        <th>Country</th>\n",
       "        <th>Season</th>\n",
       "        <th>Temperature</th>\n",
       "        <th>Rainfall</th>\n",
       "    </tr>\n",
       "    <tr>\n",
       "        <td>Mumbai</td>\n",
       "        <td>India</td>\n",
       "        <td>Winter</td>\n",
       "        <td>24.8</td>\n",
       "        <td>5.9</td>\n",
       "    </tr>\n",
       "    <tr>\n",
       "        <td>Mumbai</td>\n",
       "        <td>India</td>\n",
       "        <td>Spring</td>\n",
       "        <td>28.4</td>\n",
       "        <td>16.2</td>\n",
       "    </tr>\n",
       "    <tr>\n",
       "        <td>Mumbai</td>\n",
       "        <td>India</td>\n",
       "        <td>Summer</td>\n",
       "        <td>27.9</td>\n",
       "        <td>1549.4</td>\n",
       "    </tr>\n",
       "    <tr>\n",
       "        <td>Mumbai</td>\n",
       "        <td>India</td>\n",
       "        <td>Fall</td>\n",
       "        <td>27.6</td>\n",
       "        <td>346.0</td>\n",
       "    </tr>\n",
       "</table>"
      ],
      "text/plain": [
       "[('Mumbai', 'India', 'Winter', 24.8, 5.9),\n",
       " ('Mumbai', 'India', 'Spring', 28.4, 16.2),\n",
       " ('Mumbai', 'India', 'Summer', 27.9, 1549.4),\n",
       " ('Mumbai', 'India', 'Fall', 27.6, 346.0)]"
      ]
     },
     "execution_count": 50,
     "metadata": {},
     "output_type": "execute_result"
    }
   ],
   "source": [
    "%%sql\n",
    "select * from city_information where country =='India';"
   ]
  },
  {
   "cell_type": "markdown",
   "id": "a9514468",
   "metadata": {},
   "source": [
    "d) All the Fall records."
   ]
  },
  {
   "cell_type": "code",
   "execution_count": 52,
   "id": "55257cc2",
   "metadata": {},
   "outputs": [
    {
     "name": "stdout",
     "output_type": "stream",
     "text": [
      " * sqlite://\n",
      "Done.\n"
     ]
    },
    {
     "data": {
      "text/html": [
       "<table>\n",
       "    <tr>\n",
       "        <th>City</th>\n",
       "        <th>Country</th>\n",
       "        <th>Season</th>\n",
       "        <th>Temperature</th>\n",
       "        <th>Rainfall</th>\n",
       "    </tr>\n",
       "    <tr>\n",
       "        <td>Mumbai</td>\n",
       "        <td>India</td>\n",
       "        <td>Fall</td>\n",
       "        <td>27.6</td>\n",
       "        <td>346.0</td>\n",
       "    </tr>\n",
       "    <tr>\n",
       "        <td>London</td>\n",
       "        <td>United kingdom</td>\n",
       "        <td>Fall</td>\n",
       "        <td>10.4</td>\n",
       "        <td>218.5</td>\n",
       "    </tr>\n",
       "    <tr>\n",
       "        <td>Cairo</td>\n",
       "        <td>Egypt</td>\n",
       "        <td>Fall</td>\n",
       "        <td>22.2</td>\n",
       "        <td>4.5</td>\n",
       "    </tr>\n",
       "</table>"
      ],
      "text/plain": [
       "[('Mumbai', 'India', 'Fall', 27.6, 346.0),\n",
       " ('London', 'United kingdom', 'Fall', 10.4, 218.5),\n",
       " ('Cairo', 'Egypt', 'Fall', 22.2, 4.5)]"
      ]
     },
     "execution_count": 52,
     "metadata": {},
     "output_type": "execute_result"
    }
   ],
   "source": [
    "%%sql\n",
    "select * from city_information where season == 'Fall';"
   ]
  },
  {
   "cell_type": "markdown",
   "id": "56c2642b",
   "metadata": {},
   "source": [
    "e) The city, country, and season for which the average rainfall is between 200 \n",
    "and 400 millimeters."
   ]
  },
  {
   "cell_type": "code",
   "execution_count": 54,
   "id": "ce1ba6ef",
   "metadata": {},
   "outputs": [
    {
     "name": "stdout",
     "output_type": "stream",
     "text": [
      " * sqlite://\n",
      "Done.\n"
     ]
    },
    {
     "data": {
      "text/html": [
       "<table>\n",
       "    <tr>\n",
       "        <th>City</th>\n",
       "        <th>Country</th>\n",
       "        <th>Season</th>\n",
       "    </tr>\n",
       "    <tr>\n",
       "        <td>Mumbai</td>\n",
       "        <td>India</td>\n",
       "        <td>Fall</td>\n",
       "    </tr>\n",
       "    <tr>\n",
       "        <td>London</td>\n",
       "        <td>United kingdom</td>\n",
       "        <td>Winter</td>\n",
       "    </tr>\n",
       "    <tr>\n",
       "        <td>London</td>\n",
       "        <td>United kingdom</td>\n",
       "        <td>Fall</td>\n",
       "    </tr>\n",
       "</table>"
      ],
      "text/plain": [
       "[('Mumbai', 'India', 'Fall'),\n",
       " ('London', 'United kingdom', 'Winter'),\n",
       " ('London', 'United kingdom', 'Fall')]"
      ]
     },
     "execution_count": 54,
     "metadata": {},
     "output_type": "execute_result"
    }
   ],
   "source": [
    "%%sql\n",
    "select city, country, season from city_information where rainfall between 200 and 400"
   ]
  },
  {
   "cell_type": "markdown",
   "id": "8e84fa3b",
   "metadata": {},
   "source": [
    "f) The city and country for which the average Fall temperature is above 20 \n",
    "degrees, in increasing temperature order."
   ]
  },
  {
   "cell_type": "code",
   "execution_count": 56,
   "id": "0ab51363",
   "metadata": {},
   "outputs": [
    {
     "name": "stdout",
     "output_type": "stream",
     "text": [
      " * sqlite://\n",
      "Done.\n"
     ]
    },
    {
     "data": {
      "text/html": [
       "<table>\n",
       "    <tr>\n",
       "        <th>City</th>\n",
       "        <th>Country</th>\n",
       "    </tr>\n",
       "    <tr>\n",
       "        <td>Cairo</td>\n",
       "        <td>Egypt</td>\n",
       "    </tr>\n",
       "    <tr>\n",
       "        <td>Mumbai</td>\n",
       "        <td>India</td>\n",
       "    </tr>\n",
       "</table>"
      ],
      "text/plain": [
       "[('Cairo', 'Egypt'), ('Mumbai', 'India')]"
      ]
     },
     "execution_count": 56,
     "metadata": {},
     "output_type": "execute_result"
    }
   ],
   "source": [
    "%%sql\n",
    "select city, country from city_information where season == 'Fall' and temperature > 20 order by temperature ASC;"
   ]
  },
  {
   "cell_type": "markdown",
   "id": "fcdd791d",
   "metadata": {},
   "source": [
    "g) The total annual rainfall for Cairo."
   ]
  },
  {
   "cell_type": "code",
   "execution_count": 58,
   "id": "c2cdee29",
   "metadata": {},
   "outputs": [
    {
     "name": "stdout",
     "output_type": "stream",
     "text": [
      " * sqlite://\n",
      "Done.\n"
     ]
    },
    {
     "data": {
      "text/html": [
       "<table>\n",
       "    <tr>\n",
       "        <th>annual_rainfall</th>\n",
       "    </tr>\n",
       "    <tr>\n",
       "        <td>27.6</td>\n",
       "    </tr>\n",
       "</table>"
      ],
      "text/plain": [
       "[(27.6,)]"
      ]
     },
     "execution_count": 58,
     "metadata": {},
     "output_type": "execute_result"
    }
   ],
   "source": [
    "%%sql\n",
    "select sum(rainfall) AS annual_rainfall from city_information where city == 'Cairo';"
   ]
  },
  {
   "cell_type": "markdown",
   "id": "3ea69038",
   "metadata": {},
   "source": [
    "h) The total rainfall for each season"
   ]
  },
  {
   "cell_type": "code",
   "execution_count": 60,
   "id": "3acd1bfc",
   "metadata": {},
   "outputs": [
    {
     "name": "stdout",
     "output_type": "stream",
     "text": [
      " * sqlite://\n",
      "Done.\n"
     ]
    },
    {
     "data": {
      "text/html": [
       "<table>\n",
       "    <tr>\n",
       "        <th>Season</th>\n",
       "        <th>city_information</th>\n",
       "    </tr>\n",
       "    <tr>\n",
       "        <td>Fall</td>\n",
       "        <td>569.0</td>\n",
       "    </tr>\n",
       "    <tr>\n",
       "        <td>Spring</td>\n",
       "        <td>192.29999999999998</td>\n",
       "    </tr>\n",
       "    <tr>\n",
       "        <td>Summer</td>\n",
       "        <td>1706.5</td>\n",
       "    </tr>\n",
       "    <tr>\n",
       "        <td>Winter</td>\n",
       "        <td>230.1</td>\n",
       "    </tr>\n",
       "</table>"
      ],
      "text/plain": [
       "[('Fall', 569.0),\n",
       " ('Spring', 192.29999999999998),\n",
       " ('Summer', 1706.5),\n",
       " ('Winter', 230.1)]"
      ]
     },
     "execution_count": 60,
     "metadata": {},
     "output_type": "execute_result"
    }
   ],
   "source": [
    "%%sql\n",
    "select season, sum(rainfall) AS city_information from city_information group by season;"
   ]
  },
  {
   "cell_type": "markdown",
   "id": "d9479086",
   "metadata": {},
   "source": [
    "# Question 9\n",
    "Suppose list words is defined as follows:"
   ]
  },
  {
   "cell_type": "code",
   "execution_count": 20,
   "id": "d996d018",
   "metadata": {},
   "outputs": [
    {
     "name": "stdout",
     "output_type": "stream",
     "text": [
      "----------------------------\n",
      "['THE', 'QUICK', 'BROWN', 'FOX', 'JUMPS', 'OVER', 'THE', 'LAZY', 'DOG']\n",
      "----------------------------\n",
      "['the', 'quick', 'brown', 'fox', 'jumps', 'over', 'the', 'lazy', 'dog']\n",
      "----------------------------\n",
      "[3, 5, 5, 3, 5, 4, 3, 4, 3]\n",
      "----------------------------\n",
      "[['THE', 'the', 3], ['QUICK', 'quick', 5], ['BROWN', 'brown', 5], ['FOX', 'fox', 3], ['JUMPS', 'jumps', 5], ['OVER', 'over', 4], ['THE', 'the', 3], ['LAZY', 'lazy', 4], ['DOG', 'dog', 3]]\n",
      "----------------------------\n",
      "['quick', 'brown', 'jumps', 'over', 'lazy']\n"
     ]
    }
   ],
   "source": [
    "words = ['The', 'quick', 'brown', 'fox', 'jumps', 'over', 'the', 'lazy', 'dog']\n",
    "print(\"----------------------------\")\n",
    "print([x.upper() for x in words])\n",
    "print(\"----------------------------\")\n",
    "print([x.lower() for x in words])\n",
    "print(\"----------------------------\")\n",
    "print([len(x) for x in words])\n",
    "print(\"----------------------------\")\n",
    "print([[x.upper(), x.lower(), len(x)] for x in words])\n",
    "print(\"----------------------------\")\n",
    "print([x for x in words if len(x)>=4])"
   ]
  }
 ],
 "metadata": {
  "kernelspec": {
   "display_name": "Python 3 (ipykernel)",
   "language": "python",
   "name": "python3"
  },
  "language_info": {
   "codemirror_mode": {
    "name": "ipython",
    "version": 3
   },
   "file_extension": ".py",
   "mimetype": "text/x-python",
   "name": "python",
   "nbconvert_exporter": "python",
   "pygments_lexer": "ipython3",
   "version": "3.9.12"
  }
 },
 "nbformat": 4,
 "nbformat_minor": 5
}
