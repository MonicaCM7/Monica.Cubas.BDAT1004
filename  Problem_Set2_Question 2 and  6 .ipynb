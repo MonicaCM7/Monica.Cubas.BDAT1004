{
 "cells": [
  {
   "cell_type": "markdown",
   "id": "62f1332c",
   "metadata": {},
   "source": [
    "# Question 2"
   ]
  },
  {
   "cell_type": "code",
   "execution_count": 13,
   "id": "b9e503cf",
   "metadata": {},
   "outputs": [
    {
     "name": "stdout",
     "output_type": "stream",
     "text": [
      "127\n",
      "File ilelength.py not found.\n"
     ]
    }
   ],
   "source": [
    "import os\n",
    "def fileLength(file_name):\n",
    "\n",
    "    try:\n",
    "        length = os.path.getsize(file_name)\n",
    "        return length\n",
    "    \n",
    "    except FileNotFoundError:\n",
    "        return \"File \"+file_name+\" not found.\"\n",
    "\n",
    "print(fileLength(\"Filelength.py\"))\n",
    "print(fileLength(\"ilelength.py\"))"
   ]
  },
  {
   "cell_type": "markdown",
   "id": "dcc5b6c6",
   "metadata": {},
   "source": [
    "# Question 6"
   ]
  },
  {
   "cell_type": "code",
   "execution_count": 1,
   "id": "e7016bac",
   "metadata": {},
   "outputs": [
    {
     "name": "stdout",
     "output_type": "stream",
     "text": [
      "W3C Mission\n",
      " Principles\n"
     ]
    }
   ],
   "source": [
    "from html.parser import HTMLParser\n",
    "\n",
    "class HeadingParser(HTMLParser):\n",
    "    headerFlag = False\n",
    "    indent = 0\n",
    "    \n",
    "    def handle_starttag(self, tag, attrs):      \n",
    "        if tag == \"h1\":\n",
    "            self.headerFlag = True\n",
    "            self.indent= 0\n",
    "            \n",
    "        elif tag == \"h2\":\n",
    "            self.headerFlag = True\n",
    "            self.indent= 1\n",
    "            \n",
    "        elif tag == \"h3\":\n",
    "            self.headerFlag = True\n",
    "            self.indent= 2\n",
    "        else:\n",
    "            self.headerFlag = False\n",
    "            self.indent= 0\n",
    "\n",
    "\n",
    "    def handle_data(self, data):                \n",
    "        if self.headerFlag: \n",
    "            space = \" \"*self.indent\n",
    "            print(\"%s%s\" % (space,data))\n",
    "   \n",
    "    def handle_endtag(self, tag):\n",
    "        if tag in [\"h1\",\"h2\",\"h3\"]:\n",
    "            self.headerFlag = False\n",
    "\n",
    "infile = open('w3c1.html')\n",
    "content = infile.read()\n",
    "infile.close()\n",
    "hp = HeadingParser()\n",
    "hp.feed(content) "
   ]
  },
  {
   "cell_type": "code",
   "execution_count": null,
   "id": "473c096a",
   "metadata": {},
   "outputs": [],
   "source": []
  }
 ],
 "metadata": {
  "kernelspec": {
   "display_name": "Python 3 (ipykernel)",
   "language": "python",
   "name": "python3"
  },
  "language_info": {
   "codemirror_mode": {
    "name": "ipython",
    "version": 3
   },
   "file_extension": ".py",
   "mimetype": "text/x-python",
   "name": "python",
   "nbconvert_exporter": "python",
   "pygments_lexer": "ipython3",
   "version": "3.9.12"
  }
 },
 "nbformat": 4,
 "nbformat_minor": 5
}
